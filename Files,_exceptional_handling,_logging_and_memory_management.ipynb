{
  "nbformat": 4,
  "nbformat_minor": 0,
  "metadata": {
    "colab": {
      "provenance": []
    },
    "kernelspec": {
      "name": "python3",
      "display_name": "Python 3"
    },
    "language_info": {
      "name": "python"
    }
  },
  "cells": [
    {
      "cell_type": "markdown",
      "source": [
        "#Files, exceptional handling, logging and memory management Questions"
      ],
      "metadata": {
        "id": "9TGeoff63_ao"
      }
    },
    {
      "cell_type": "markdown",
      "source": [
        "**Question-**1.What is the difference between interpreted and compiled languages.\n",
        "\n",
        "\n",
        "Answer-1.\n",
        "#Interpreted:\n",
        " Code is executed line-by-line (e.g., Python).\n",
        "\n",
        "\n",
        "#Compiled:\n",
        "Code is converted into machine language before execution (e.g., C++).\n",
        "\n",
        "\n",
        "#Python\n",
        " is an interpreted language.\n"
      ],
      "metadata": {
        "id": "aZIiZitPi_eE"
      }
    },
    {
      "cell_type": "markdown",
      "source": [
        "**Question-**2. What is exception handling in Python.\n",
        "\n",
        "\n",
        "\n",
        "\n",
        "Answer-2.Exception handling is used to catch and handle errors at runtime using try, except, and other related keywords. It prevents program crashes.\n"
      ],
      "metadata": {
        "id": "PsJJFI3zjFFA"
      }
    },
    {
      "cell_type": "markdown",
      "source": [
        "**Question-**3. What is the purpose of the finally block in exception handling.\n",
        "\n",
        "Answer-3. The finally block contains code that always runs, whether or not an exception was raised—typically used for cleanup like closing files.\n"
      ],
      "metadata": {
        "id": "gNnkdN-zjLFb"
      }
    },
    {
      "cell_type": "markdown",
      "source": [
        "**Question-**4. What is logging in Python.\n",
        "\n",
        "\n",
        "\n",
        "\n",
        "Answer-4. Logging is the process of recording events or errors during program execution. Python’s logging module helps track what’s happening."
      ],
      "metadata": {
        "id": "D3LDN0hXjMuk"
      }
    },
    {
      "cell_type": "markdown",
      "source": [
        "**Question-**5. What is the significance of the __del__ method in Python.\n",
        "\n",
        "\n",
        "\n",
        "\n",
        "Answer-5. __del__() is the destructor method. It is called when an object is about to be deleted to release resources.\n",
        "\n"
      ],
      "metadata": {
        "id": "ttOjDuwajMre"
      }
    },
    {
      "cell_type": "markdown",
      "source": [
        "**Question-**6. What is the difference between import and from ... import in Python.\n",
        "\n",
        "\n",
        "\n",
        "\n",
        "Answer-6.\n",
        "#import module\n",
        "* Imports the entire module\n",
        "\n",
        "\n",
        "* Access functions or classes using module.name syntax.\n",
        "#from module import name\n",
        "* Imports a specific function, class, or variable from the module\n",
        "\n",
        "\n",
        "* You can use it directly without module prefix\n",
        "\n"
      ],
      "metadata": {
        "id": "9rw6lAbojMn1"
      }
    },
    {
      "cell_type": "markdown",
      "source": [
        "**Question-**7. How can you handle multiple exceptions in Python."
      ],
      "metadata": {
        "id": "mw8qWi1tvs7i"
      }
    },
    {
      "cell_type": "code",
      "source": [
        "\n",
        "\n",
        "\n",
        "\n",
        "\n",
        "#Answer-7.\n",
        "#Multiple except Blocks (Best for Specific Handling)\n",
        "try:\n",
        "    x = int(input(\"Enter a number: \"))\n",
        "    y = 10 / x\n",
        "except ValueError:\n",
        "    print(\"Invalid input. Please enter a number.\")\n",
        "except ZeroDivisionError:\n",
        "    print(\"Cannot divide by zero.\")\n",
        "\n",
        "\n"
      ],
      "metadata": {
        "id": "yls9txvilrZ1"
      },
      "execution_count": null,
      "outputs": []
    },
    {
      "cell_type": "code",
      "source": [
        "#Single except Block with a Tuple (Group Handling)\n",
        "try:\n",
        "    x = int(input(\"Enter a number: \"))\n",
        "    y = 10 / x\n",
        "except (ValueError, ZeroDivisionError) as e:\n",
        "    print(\"Error occurred:\", e)\n",
        "\n",
        "\n"
      ],
      "metadata": {
        "id": "REvPyorumKBy"
      },
      "execution_count": null,
      "outputs": []
    },
    {
      "cell_type": "markdown",
      "source": [
        "**Question-**8.What is the purpose of the with statement when handling files in Python.\n",
        "\n",
        "\n",
        "\n",
        "\n",
        "Answer-8.\n",
        "#Purpose of with Statement in File Handling\n",
        "\n"
      ],
      "metadata": {
        "id": "X71-E4fEjMj3"
      }
    },
    {
      "cell_type": "code",
      "source": [
        "with open('file.txt') as f:\n",
        "    data = f.read()"
      ],
      "metadata": {
        "id": "S4vIA8IVwGwj"
      },
      "execution_count": null,
      "outputs": []
    },
    {
      "cell_type": "markdown",
      "source": [
        "**Question-**9.What is the difference between multithreading and multiprocessing.\n",
        "\n",
        "\n",
        "\n",
        "\n",
        "Answer-9.\n",
        "#Difference Between Multithreading and Multiprocessing\n",
        "* Multithreading: Multiple threads in one process; best for I/O tasks.\n",
        "\n",
        "\n",
        "* Multiprocessing: Multiple processes; better for CPU-bound tasks.\n"
      ],
      "metadata": {
        "id": "HfdSqLuRjMf7"
      }
    },
    {
      "cell_type": "markdown",
      "source": [
        "**Question-**10. What are the advantages of using logging in a program.\n",
        "\n",
        "\n",
        "\n",
        "\n",
        "Answer-10.\n",
        "#Advantages of Using Logging\n",
        "* Tracks application behavior\n",
        "\n",
        "\n",
        "* Helps debug errors\n",
        "\n",
        "\n",
        "* Provides time-stamped records\n",
        "\n",
        "\n",
        "* Useful for monitoring in production\n",
        "\n",
        "\n"
      ],
      "metadata": {
        "id": "-we9LItfjMco"
      }
    },
    {
      "cell_type": "markdown",
      "source": [
        "**Question-**11.What is memory management in Python.\n",
        "\n",
        "\n",
        "\n",
        "\n",
        "Answer-11.Python uses automatic memory management with:\n",
        "Reference counting\n",
        "\n",
        "\n",
        "* Garbage collection (gc module)\n",
        "\n",
        "\n"
      ],
      "metadata": {
        "id": "-D6HglJAjMZC"
      }
    },
    {
      "cell_type": "markdown",
      "source": [
        "**Question-**12.What are the basic steps involved in exception handling in Python.\n",
        "\n",
        "\n",
        "\n",
        "\n",
        "Answer-12.\n",
        "#Basic Steps in Exception Handling\n",
        "try:\n",
        "* Code that might raise an error.\n",
        "\n",
        "\n",
        "except:\n",
        "*  Handle the error.\n",
        "\n",
        "\n",
        "else:\n",
        "* Run if no exception.\n",
        "\n",
        "\n",
        "finally:\n",
        "* Run no matter what.\n"
      ],
      "metadata": {
        "id": "YPFAm_thjMVk"
      }
    },
    {
      "cell_type": "markdown",
      "source": [
        "**Question-**13.Why is memory management important in Python.\n",
        "\n",
        "\n",
        "\n",
        "\n",
        "Answer-13.\n",
        "* Prevents memory leaks\n",
        "\n",
        "\n",
        "* Improves program efficiency\n",
        "\n",
        "\n",
        "* Ensures optimal resource usage\n",
        "\n",
        "\n"
      ],
      "metadata": {
        "id": "uTaXg9_DjMR_"
      }
    },
    {
      "cell_type": "markdown",
      "source": [
        "**Question-**14.  What is the role of try and except in exception handling.\n",
        "\n",
        "\n",
        "\n",
        "\n",
        "Answer-14.They catch runtime errors and allow the program to continue or fail gracefully.\n"
      ],
      "metadata": {
        "id": "GYVC2_WLjMOi"
      }
    },
    {
      "cell_type": "markdown",
      "source": [
        "**Question-**15. How does Python's garbage collection system work.\n",
        "\n",
        "\n",
        "Answer-15.\n",
        "* Reference counting\n",
        "\n",
        "\n",
        "* Cyclic garbage collector to remove unused objects from memory.\n",
        "\n",
        "\n"
      ],
      "metadata": {
        "id": "tXwZVA_rjMLU"
      }
    },
    {
      "cell_type": "markdown",
      "source": [
        "**Question-**16. What is the purpose of the else block in exception handling.\n",
        "\n",
        "\n",
        "\n",
        "\n",
        "Answer-16.The else block in Python exception handling is used to define code that should run only if no exception occurs in the try block.\n",
        "\n",
        "try:\n",
        "    # Code that might raise an exception\n",
        "except SomeError:\n",
        "    # Code that runs if an exception occurs\n",
        "else:\n",
        "    # Code that runs ONLY if no exception was raised\n",
        "finally:\n",
        "    # Code that always runs (optional)\n",
        "\n"
      ],
      "metadata": {
        "id": "4cIZA934jLtZ"
      }
    },
    {
      "cell_type": "markdown",
      "source": [
        "**Question-**17.What are the common logging levels in Python.\n",
        "\n",
        "\n",
        "\n",
        "\n",
        "Answer-17.Python’s logging module provides five standard logging levels that indicate the severity or importance of the messages being logged.\n",
        "#Logging Levels (from lowest to highest severity):\n",
        "Level        Name          Purpose\n",
        "\n",
        "10       DEBUG        Detailed information for debugging (development use)\n",
        "\n",
        "\n",
        "20\n",
        "INFO\n",
        "General information about program execution\n",
        "\n",
        "\n",
        "30\n",
        "WARNING\n",
        "Something unexpected happened, but program still works\n",
        "\n",
        "\n",
        "40\n",
        "ERROR\n",
        "A serious problem occurred, affecting functionality\n",
        "\n",
        "\n",
        "50\n",
        "CRITICAL\n",
        "Very serious error — program may not continue\n",
        "\n"
      ],
      "metadata": {
        "id": "uDq-ox2txa82"
      }
    },
    {
      "cell_type": "markdown",
      "source": [
        "**Question-**18. What is the difference between os.fork() and multiprocessing in Python.\n",
        "\n",
        "\n",
        "\n",
        "\n",
        "Answer-18.\n",
        "#Difference Between os.fork() and multiprocessing in Python\n",
        "Both os.fork() and the multiprocessing module are used to create new processes, but they are quite different in terms of usage, platform support, and abstraction level.\n",
        "#os.fork()\n",
        "* Creates a child process by duplicating the current process.\n",
        "\n",
        "\n",
        "* Available only on Unix/Linux/macOS (❌ Not available on Windows).\n",
        "\n",
        "\n",
        "* Lower-level system call — more manual and error-prone.\n",
        "\n",
        "\n",
        "* Less portable and harder to manage.\n",
        "#multiprocessing Module\n",
        "* High-level module for cross-platform process-based parallelism.\n",
        "\n",
        "\n",
        "* Works on Windows, Linux, and macOS.\n",
        "\n",
        "\n",
        "* Easier to use and manage.\n",
        "\n",
        "\n",
        "* Provides features like Queues, Pipes, Pools, and shared memory.\n"
      ],
      "metadata": {
        "id": "jLyk1soBxa4u"
      }
    },
    {
      "cell_type": "markdown",
      "source": [
        "**Question-**19.What is the importance of closing a file in Python.\n",
        "\n",
        "\n",
        "\n",
        "\n",
        "Answer-19.\n",
        "#Importance of Closing a File in Python\n",
        "Closing a file in Python is crucial for proper resource management. When you're done working with a file, you should always close it using the close() method or the with statement.\n",
        "#Why Closing a File Is Important:\n",
        "\n",
        "\n",
        "# Frees System Resources\n",
        "\n",
        "\n",
        "* Open files consume memory and system file handles.\n",
        "\n",
        "\n",
        "* Closing them releases those resources back to the OS.\n",
        "\n",
        "\n",
        "#Ensures Data Is Written\n",
        "\n",
        "\n",
        "* When writing to a file, changes are often buffered.\n",
        "\n",
        "\n",
        "* close() flushes the buffer to disk, ensuring nothing is lost.\n",
        "\n",
        "\n",
        "#Avoids Data Corruption\n",
        "\n",
        "\n",
        "* Leaving a file open might cause issues if multiple programs or processes try to access it.\n",
        "\n",
        "\n",
        "#Prevents File Locks\n",
        "\n",
        "\n",
        "* Some operating systems lock open files, preventing others from using them.\n",
        "\n",
        "\n"
      ],
      "metadata": {
        "id": "SKRcQEPwxaz_"
      }
    },
    {
      "cell_type": "markdown",
      "source": [
        "**Question-**20.What is the difference between file.read() and file.readline() in Python.\n",
        "\n",
        "\n",
        "\n",
        "\n",
        "Answer-20.\n",
        "#Difference Between file.read() and file.readline() in Python\n",
        "Both read() and readline() are used to read content from a file, but they behave very differently.\n",
        "#file.read()\n",
        "* Reads the entire file as a single string.\n",
        "\n",
        "\n",
        "* Can take an optional argument for the number of characters.\n",
        "\n",
        "\n",
        "* Useful when you want to process the whole file at once.\n",
        "#file.readline()\n",
        "* Reads just one line at a time.\n",
        "\n",
        "\n",
        "* Useful for line-by-line processing, especially with large files.\n",
        "\n",
        "\n",
        "* Each call reads the next line.\n"
      ],
      "metadata": {
        "id": "tqnHB1dBxawR"
      }
    },
    {
      "cell_type": "markdown",
      "source": [
        "**Question-**21.What is the logging module in Python used for.\n",
        "\n",
        "\n",
        "\n",
        "\n",
        "Answer-21.The logging module in Python is used to track events that happen when a program runs. It is a powerful tool for debugging, monitoring, and auditing applications.\n",
        "#Main Purposes of Logging:\n",
        "**Record errors and exceptions**\n",
        "\n",
        " *Helpful for diagnosing issues without crashing the program.\n",
        "\n",
        "\n",
        "**Track application flow**\n",
        "\n",
        "*  Know which parts of your code were executed and in what order.\n",
        "\n",
        "\n",
        "**Monitor long-running or background processes**\n",
        "\n",
        " * Especially useful in production environments.\n",
        "\n",
        "\n",
        "**Save logs to files**\n",
        " * So issues can be analyzed later by developers or support teams.\n",
        "\n",
        "\n"
      ],
      "metadata": {
        "id": "y1QzwlVcxasO"
      }
    },
    {
      "cell_type": "markdown",
      "source": [
        "**Question-**22.What is the os module in Python used for in file handling..\n",
        "\n",
        "Answer-22.The os module in Python provides a way to interact with the operating system. In file handling, it is used to manage files, directories, and paths at the system level.\n",
        "#Common Uses of os in File Handling:\n",
        "* Check if a file or folder exists\n",
        "* Create a directory\n",
        "* Create nested directories\n",
        "* Delete a file\n",
        "* Rename a file\n",
        "* List all files in a directory\n",
        "* Get the current working directory\n",
        "* Change the current directory\n"
      ],
      "metadata": {
        "id": "ZTB8-YDixaoA"
      }
    },
    {
      "cell_type": "markdown",
      "source": [
        "**Question-**23.What are the challenges associated with memory management in Python.\n",
        "\n",
        "Answer-23.\n",
        "\n",
        "* Cyclic references\n",
        "\n",
        "\n",
        "*  Large object tracking\n",
        "\n",
        "\n",
        "* Manual cleanup for unmanaged resources (e.g., files, sockets)\n",
        "\n",
        "\n"
      ],
      "metadata": {
        "id": "OQ9CcOGfxaj0"
      }
    },
    {
      "cell_type": "markdown",
      "source": [
        "**Question-**24.How do you raise an exception manually in Python.\n",
        "\n",
        "\n",
        "\n",
        "\n",
        "Answer-24.\n",
        "#Use raise keyword:\n",
        "\n"
      ],
      "metadata": {
        "id": "KQkO9hlTxagB"
      }
    },
    {
      "cell_type": "code",
      "source": [
        "raise ValueError(\"Invalid input\")\n"
      ],
      "metadata": {
        "id": "NyCQzauo1CfK"
      },
      "execution_count": null,
      "outputs": []
    },
    {
      "cell_type": "markdown",
      "source": [
        "**Question-**25.Why is it important to use multithreading in certain applications.\n",
        "\n",
        "\n",
        "\n",
        "\n",
        "Answer-25.\n",
        "\n",
        "**Useful for:**\n",
        "\n",
        "I/O-bound tasks (e.g., downloading files)\n",
        "\n",
        "\n",
        "**Improves responsiveness**\n",
        "\n",
        "\n",
        "Executes tasks concurrently in a single process\n"
      ],
      "metadata": {
        "id": "TDzOOrbGxabP"
      }
    },
    {
      "cell_type": "markdown",
      "source": [],
      "metadata": {
        "id": "r8ZLRS6439GV"
      }
    },
    {
      "cell_type": "markdown",
      "source": [
        "Practical Questions"
      ],
      "metadata": {
        "id": "KVPjs-4e4PIR"
      }
    },
    {
      "cell_type": "markdown",
      "source": [
        "**Question-1.**How can you open a file for writing in Python and write a string to it?"
      ],
      "metadata": {
        "id": "P3W0kstv4SlL"
      }
    },
    {
      "cell_type": "code",
      "source": [
        "\n",
        "with open(\"output.txt\", \"w\") as file:\n",
        "    file.write(\"Hello, this is a file write example.\")\n"
      ],
      "metadata": {
        "id": "aVYMleFu4eGp"
      },
      "execution_count": null,
      "outputs": []
    },
    {
      "cell_type": "markdown",
      "source": [
        "**Question-2.**Write a Python program to read the contents of a file and print each line."
      ],
      "metadata": {
        "id": "hryN8N9g4mTn"
      }
    },
    {
      "cell_type": "code",
      "source": [
        "\n",
        "\n",
        "with open(\"output.txt\", \"r\") as file:\n",
        "    for line in file:\n",
        "        print(line.strip())  # .strip() removes extra newlines\n"
      ],
      "metadata": {
        "id": "VQaWY5ud4tqT"
      },
      "execution_count": null,
      "outputs": []
    },
    {
      "cell_type": "markdown",
      "source": [
        "**Question-3.**How would you handle a case where the file doesn't exist while trying to open it for reading?"
      ],
      "metadata": {
        "id": "IdmnEAz641Zc"
      }
    },
    {
      "cell_type": "code",
      "source": [
        "\n",
        "\n",
        "try:\n",
        "    with open(\"nonexistent.txt\", \"r\") as file:\n",
        "        print(file.read())\n",
        "except FileNotFoundError:\n",
        "    print(\"File not found. Please check the filename.\")\n"
      ],
      "metadata": {
        "id": "ayu2G71d490p"
      },
      "execution_count": null,
      "outputs": []
    },
    {
      "cell_type": "markdown",
      "source": [
        "**Question-4.** Write a Python script that reads from one file and writes its content to another file"
      ],
      "metadata": {
        "id": "jxMUuw7p41Xb"
      }
    },
    {
      "cell_type": "code",
      "source": [
        "\n",
        "\n",
        "with open(\"source.txt\", \"r\") as src, open(\"destination.txt\", \"w\") as dest:\n",
        "    for line in src:\n",
        "        dest.write(line)\n"
      ],
      "metadata": {
        "id": "APTiHofs5N8a"
      },
      "execution_count": null,
      "outputs": []
    },
    {
      "cell_type": "markdown",
      "source": [
        "**Question-5.**How do you append data to an existing file in Python?"
      ],
      "metadata": {
        "id": "nb2-sdqD5SS7"
      }
    },
    {
      "cell_type": "code",
      "source": [
        "\n",
        "with open(\"output.txt\", \"a\") as file:\n",
        "    file.write(\"\\nThis is an appended line.\")\n"
      ],
      "metadata": {
        "id": "sFiIKiOU5uWp"
      },
      "execution_count": null,
      "outputs": []
    },
    {
      "cell_type": "markdown",
      "source": [
        "**Question-6.**Write a Python program to count the number of lines in a file."
      ],
      "metadata": {
        "id": "wk4rXZaw5yfN"
      }
    },
    {
      "cell_type": "code",
      "source": [
        "\n",
        "with open(\"output.txt\", \"r\") as file:\n",
        "    lines = file.readlines()\n",
        "    print(\"Number of lines:\", len(lines))\n"
      ],
      "metadata": {
        "id": "4XrzzNUD56sZ"
      },
      "execution_count": null,
      "outputs": []
    },
    {
      "cell_type": "markdown",
      "source": [
        "**Question-7.**Demonstrate the use of try, except, and finally blocks in Python."
      ],
      "metadata": {
        "id": "pwiHdUBd5-Og"
      }
    },
    {
      "cell_type": "code",
      "source": [
        "\n",
        "\n",
        "try:\n",
        "    num = int(input(\"Enter a number: \"))\n",
        "    print(10 / num)\n",
        "except ValueError:\n",
        "    print(\"Invalid input!\")\n",
        "except ZeroDivisionError:\n",
        "    print(\"Cannot divide by zero.\")\n",
        "finally:\n",
        "    print(\"This block always runs.\")\n"
      ],
      "metadata": {
        "id": "kfnjPvK_6NnQ"
      },
      "execution_count": null,
      "outputs": []
    },
    {
      "cell_type": "markdown",
      "source": [
        "**Question-8.**Write a program that catches both ValueError and ZeroDivisionError."
      ],
      "metadata": {
        "id": "TFMycbrM6RhP"
      }
    },
    {
      "cell_type": "code",
      "source": [
        "\n",
        "try:\n",
        "    x = int(input(\"Enter a number: \"))\n",
        "    print(10 / x)\n",
        "except ValueError:\n",
        "    print(\"Only numbers are allowed.\")\n",
        "except ZeroDivisionError:\n",
        "    print(\"Cannot divide by zero.\")\n"
      ],
      "metadata": {
        "id": "IivqrK5e6ZG8"
      },
      "execution_count": null,
      "outputs": []
    },
    {
      "cell_type": "markdown",
      "source": [
        "**Question-9.**Show how to raise a custom exception in Python."
      ],
      "metadata": {
        "id": "gttToeKD6cyk"
      }
    },
    {
      "cell_type": "code",
      "source": [
        "\n",
        "age = int(input(\"Enter your age: \"))\n",
        "if age < 18:\n",
        "    raise Exception(\"You must be 18 or older.\")\n",
        "else:\n",
        "    print(\"Access granted.\")\n"
      ],
      "metadata": {
        "id": "OXsDpMr36lDL"
      },
      "execution_count": null,
      "outputs": []
    },
    {
      "cell_type": "markdown",
      "source": [
        "**Question-10.**Demonstrate how to use the else block with try and except."
      ],
      "metadata": {
        "id": "aVagIhy16v1Y"
      }
    },
    {
      "cell_type": "code",
      "source": [
        "\n",
        "try:\n",
        "    num = int(input(\"Enter a number: \"))\n",
        "except ValueError:\n",
        "    print(\"That’s not a number!\")\n",
        "else:\n",
        "    print(\"Good job! You entered:\", num)\n"
      ],
      "metadata": {
        "id": "TTifZfl3625u"
      },
      "execution_count": null,
      "outputs": []
    },
    {
      "cell_type": "markdown",
      "source": [
        "**Question-11.**How do you create and configure a logger in Python?"
      ],
      "metadata": {
        "id": "gYndw7zY66Am"
      }
    },
    {
      "cell_type": "code",
      "source": [
        "\n",
        "import logging\n",
        "\n",
        "logging.basicConfig(level=logging.INFO, filename=\"logfile.log\", filemode=\"w\", format='%(levelname)s:%(message)s')\n",
        "logging.info(\"This is an info message.\")\n",
        "logging.warning(\"This is a warning.\")\n"
      ],
      "metadata": {
        "id": "AcMKxjHE6_48"
      },
      "execution_count": null,
      "outputs": []
    },
    {
      "cell_type": "markdown",
      "source": [
        "***Question-`12.***Write a Python program that logs an error message when an exception occurs."
      ],
      "metadata": {
        "id": "iPx-CIWa7CyC"
      }
    },
    {
      "cell_type": "code",
      "source": [
        "\n",
        "import logging\n",
        "\n",
        "logging.basicConfig(filename=\"errors.log\", level=logging.ERROR)\n",
        "\n",
        "try:\n",
        "    x = 10 / 0\n",
        "except ZeroDivisionError as e:\n",
        "    logging.error(\"Error occurred: %s\", e)\n"
      ],
      "metadata": {
        "id": "o7thTSjg7NtY"
      },
      "execution_count": null,
      "outputs": []
    },
    {
      "cell_type": "markdown",
      "source": [
        "**Question-13.**Write a program that creates multiple log levels.\n"
      ],
      "metadata": {
        "id": "MV3hgy0B7SJJ"
      }
    },
    {
      "cell_type": "code",
      "source": [
        "\n",
        "\n",
        "import logging\n",
        "\n",
        "logging.basicConfig(level=logging.DEBUG)\n",
        "\n",
        "logging.debug(\"Debug message\")\n",
        "logging.info(\"Info message\")\n",
        "logging.warning(\"Warning message\")\n",
        "logging.error(\"Error message\")\n",
        "logging.critical(\"Critical message\")\n"
      ],
      "metadata": {
        "id": "TtBB0oBV7ePw"
      },
      "execution_count": null,
      "outputs": []
    },
    {
      "cell_type": "markdown",
      "source": [
        "**Question-14.**Demonstrate how to check memory usage of an object using sys.getsizeof()."
      ],
      "metadata": {
        "id": "i43xKurk7h_r"
      }
    },
    {
      "cell_type": "code",
      "source": [
        "\n",
        "import sys\n",
        "\n",
        "x = [1, 2, 3, 4, 5]\n",
        "print(\"Memory used by x:\", sys.getsizeof(x), \"bytes\")\n"
      ],
      "metadata": {
        "id": "ftMwmTgK7pjm"
      },
      "execution_count": null,
      "outputs": []
    },
    {
      "cell_type": "markdown",
      "source": [
        "**Question-15.**How do you manually trigger garbage collection in Python?"
      ],
      "metadata": {
        "id": "yYD8WIAb7sGG"
      }
    },
    {
      "cell_type": "code",
      "source": [
        "\n",
        "import gc\n",
        "\n",
        "gc.collect()\n",
        "print(\"Garbage collection complete.\")\n"
      ],
      "metadata": {
        "id": "PmOtuOyR715E"
      },
      "execution_count": null,
      "outputs": []
    },
    {
      "cell_type": "markdown",
      "source": [
        "**Question-16**.Write a Python program that creates a text file and writes user input into it."
      ],
      "metadata": {
        "id": "no0UQS8N74q4"
      }
    },
    {
      "cell_type": "code",
      "source": [
        "\n",
        "\n",
        "filename = \"user_input.txt\"\n",
        "with open(filename, \"w\") as file:\n",
        "    text = input(\"Enter some text: \")\n",
        "    file.write(text)\n",
        "print(\"Text saved to\", filename)\n"
      ],
      "metadata": {
        "id": "vDj1sE-08Dx8"
      },
      "execution_count": null,
      "outputs": []
    },
    {
      "cell_type": "markdown",
      "source": [
        "**Question-17.**Write a Python program that reads a text file and counts the number of words.\n"
      ],
      "metadata": {
        "id": "wGMTpajr8Ih2"
      }
    },
    {
      "cell_type": "code",
      "source": [
        "\n",
        "with open(\"user_input.txt\", \"r\") as file:\n",
        "    content = file.read()\n",
        "    words = content.split()\n",
        "    print(\"Total words:\", len(words))\n"
      ],
      "metadata": {
        "id": "GEFLBozZ8Orq"
      },
      "execution_count": null,
      "outputs": []
    },
    {
      "cell_type": "markdown",
      "source": [
        "**Question-18.**Write a program to handle file not found exception using try-except."
      ],
      "metadata": {
        "id": "TZ-zg8508SJK"
      }
    },
    {
      "cell_type": "code",
      "source": [
        "\n",
        "\n",
        "try:\n",
        "    with open(\"missing_file.txt\", \"r\") as file:\n",
        "        print(file.read())\n",
        "except FileNotFoundError:\n",
        "    print(\"The file does not exist.\")\n"
      ],
      "metadata": {
        "id": "IAeief-z8YGs"
      },
      "execution_count": null,
      "outputs": []
    },
    {
      "cell_type": "markdown",
      "source": [
        "**Question-19.** Create a program that logs user input and errors into a file."
      ],
      "metadata": {
        "id": "8RlqOhmh8awR"
      }
    },
    {
      "cell_type": "code",
      "source": [
        "\n",
        "\n",
        "import logging\n",
        "\n",
        "logging.basicConfig(filename=\"activity.log\", level=logging.INFO)\n",
        "\n",
        "try:\n",
        "    user_input = input(\"Enter a number: \")\n",
        "    num = int(user_input)\n",
        "    logging.info(f\"User entered: {num}\")\n",
        "except ValueError as e:\n",
        "    logging.error(\"Invalid input: %s\", e)\n"
      ],
      "metadata": {
        "id": "wca7DBQ78ip3"
      },
      "execution_count": null,
      "outputs": []
    },
    {
      "cell_type": "markdown",
      "source": [
        "**Question-20.**Write a Python program to read and display contents of a file line by line."
      ],
      "metadata": {
        "id": "X3_MbRfo8nG2"
      }
    },
    {
      "cell_type": "code",
      "source": [
        "\n",
        "with open(\"user_input.txt\", \"r\") as file:\n",
        "    for line in file:\n",
        "        print(line.strip())\n"
      ],
      "metadata": {
        "id": "wk2WXtcg8yAL"
      },
      "execution_count": null,
      "outputs": []
    },
    {
      "cell_type": "markdown",
      "source": [
        "**Question-21.** Demonstrate the use of finally block to ensure a file is closed."
      ],
      "metadata": {
        "id": "erGcg2hY81CT"
      }
    },
    {
      "cell_type": "code",
      "source": [
        "\n",
        "\n",
        "try:\n",
        "    f = open(\"user_input.txt\", \"r\")\n",
        "    data = f.read()\n",
        "    print(data)\n",
        "except FileNotFoundError:\n",
        "    print(\"File not found.\")\n",
        "finally:\n",
        "    f.close()\n",
        "    print(\"File closed.\")\n"
      ],
      "metadata": {
        "id": "xsv4rKKe8_K1"
      },
      "execution_count": null,
      "outputs": []
    },
    {
      "cell_type": "markdown",
      "source": [
        "**Question-22.**Write a program that creates a backup of an existing file."
      ],
      "metadata": {
        "id": "Gi9QVWzI9BNc"
      }
    },
    {
      "cell_type": "code",
      "source": [
        "\n",
        "\n",
        "with open(\"user_input.txt\", \"r\") as original, open(\"backup.txt\", \"w\") as backup:\n",
        "    for line in original:\n",
        "        backup.write(line)\n",
        "print(\"Backup created.\")\n"
      ],
      "metadata": {
        "id": "uGh-e3Wh9H20"
      },
      "execution_count": null,
      "outputs": []
    },
    {
      "cell_type": "markdown",
      "source": [
        "**Question-23.**Create a file and write multiple lines using a loop."
      ],
      "metadata": {
        "id": "CPYPXxo99Laf"
      }
    },
    {
      "cell_type": "code",
      "source": [
        "\n",
        "\n",
        "with open(\"loop_lines.txt\", \"w\") as file:\n",
        "    for i in range(1, 6):\n",
        "        file.write(f\"This is line {i}\\n\")\n"
      ],
      "metadata": {
        "id": "v4fw8BS79RTl"
      },
      "execution_count": null,
      "outputs": []
    },
    {
      "cell_type": "markdown",
      "source": [
        "**Question-24.**Write a Python program to read a large file efficiently using readline().\n"
      ],
      "metadata": {
        "id": "DAC7PjA29USb"
      }
    },
    {
      "cell_type": "code",
      "source": [
        "\n",
        "\n",
        "with open(\"loop_lines.txt\", \"r\") as file:\n",
        "    while True:\n",
        "        line = file.readline()\n",
        "        if not line:\n",
        "            break\n",
        "        print(line.strip())\n"
      ],
      "metadata": {
        "id": "37C5ifbH9cGl"
      },
      "execution_count": null,
      "outputs": []
    },
    {
      "cell_type": "markdown",
      "source": [
        "**Question-25**Demonstrate memory cleanup using garbage collection module."
      ],
      "metadata": {
        "id": "OaLFspGk9fO3"
      }
    },
    {
      "cell_type": "code",
      "source": [
        "\n",
        "\n",
        "import gc\n",
        "\n",
        "class Sample:\n",
        "    def __del__(self):\n",
        "        print(\"Sample object deleted.\")\n",
        "\n",
        "obj = Sample()\n",
        "del obj\n",
        "gc.collect()\n"
      ],
      "metadata": {
        "id": "R6VUkdMh9kSP"
      },
      "execution_count": null,
      "outputs": []
    }
  ]
}